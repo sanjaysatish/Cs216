{
 "cells": [
  {
   "cell_type": "markdown",
   "metadata": {},
   "source": [
    "# CS 216 Project: March Madness\n",
    "## Team Members: Angela Guan, Justin Zhao, Rebecca Shu, Sanjay Satish"
   ]
  },
  {
   "cell_type": "markdown",
   "metadata": {},
   "source": [
    "The following is a Jupyter Notebook that holds our analysis for our CS216 Final Project. \n",
    "\n",
    "The focus of this project is to analyze exactly what makes Final Four teams in March Madness so successful.\n",
    "\n",
    "Specifically, we will choose to examine the likelihood of certain teams to make it to the coveted Final Four (last four teams standing in the tournament) to see if we can visualize any  statistical patterns or trends and run a regression on the most meaningful statistical factors."
   ]
  },
  {
   "cell_type": "markdown",
   "metadata": {},
   "source": [
    "## Setup \n",
    "\n",
    "Here we load the necessary packages and libraries we will use for our analysis. "
   ]
  },
  {
   "cell_type": "code",
   "execution_count": 1,
   "metadata": {},
   "outputs": [],
   "source": [
    "import pandas as pd\n",
    "import numpy as np\n",
    "import seaborn as sns"
   ]
  },
  {
   "cell_type": "markdown",
   "metadata": {},
   "source": [
    "## Data \n",
    "\n",
    "To create our data, we combine the following datasets:\n",
    "\n",
    "https://www.kaggle.com/annahuntington/mens-final-four-results-19392019\n",
    "A dataset which documents the final 4 teams in the tournament each year, including their place in the tournament (1, 2 or 3rd - there are two teams that place 3rd in a bracket system). \n",
    "\n",
    "https://www.kaggle.com/andrewsundberg/college-basketball-dataset?select=cbb.csv\n",
    "A dataset withb all NCAA MBB teams 2015-2020, has team information and basic statistics on each team \n",
    "\n",
    "https://www.kaggle.com/raddar/ncaa-men-538-team-ratings\n",
    "A dataset with 538's team rankings since 2016"
   ]
  },
  {
   "cell_type": "markdown",
   "metadata": {},
   "source": [
    "### Merging and loading data\n",
    "\n",
    "\n",
    "Here, we load in each of our respective datasets and merge them to create our final dataset which will be used for analysis. Essentially, we produce a dataset where each row represents the statistics for team *i* in year *t* as well as their place in the tournament (1st, 2nd, or 3rd). This type of \"panel\" data allows us to better examine group averages for various statistical categories we may be interested in for analysis."
   ]
  },
  {
   "cell_type": "code",
   "execution_count": 255,
   "metadata": {},
   "outputs": [],
   "source": [
    "#Load 538 Data\n",
    "five38_ratings = pd.read_csv(\"538ratingsMen.csv\")\n",
    "five38_ratings.rename(columns={'TeamName': 'School', 'Season': 'Year'}, inplace=True)\n",
    "five38_ratings.replace(\"Loyola (IL)\", \"Loyola Chicago\", inplace = True)\n",
    "\n",
    "#Load NCAA aggregate data, only take seasons 2016-present \n",
    "collegebasketball = pd.read_csv(\"cbb.csv\")\n",
    "collegebasketball.rename(columns={'YEAR': 'Year', 'TEAM': 'School'}, inplace=True) \n",
    "collegebasketball = collegebasketball[collegebasketball[\"Year\"] >= 2016]\n",
    "\n",
    "#Load placement data, only take seasons 2016-present\n",
    "placement = pd.read_csv(\"Final Four NCAA Division I Mens basketball Tournament.csv\")\n",
    "placement.rename(columns={'School ': 'School'}, inplace=True)\n",
    "placement.replace(\"Loyola-Chicago\", \"Loyola Chicago\", inplace = True)\n",
    "placement = placement[placement[\"Year\"] >= 2016]"
   ]
  },
  {
   "cell_type": "code",
   "execution_count": 256,
   "metadata": {},
   "outputs": [],
   "source": [
    "collegebasketball.replace(\"Arizona St.\", \"Arizona State\", inplace = True) \n",
    "collegebasketball.replace(\"Arkansas Little Rock\", \"Arkansas-Little Rock\", inplace = True) \n",
    "collegebasketball.replace(\"Cal St. Bakersfield\", \"Cal State Bakersfield\", inplace = True) \n",
    "collegebasketball.replace(\"Cal St. Fullerton\", \"Cal State Fullerton\", inplace = True) \n",
    "collegebasketball.replace(\"East Tennessee St.\", \"East Tennessee State\", inplace = True) \n",
    "collegebasketball.replace(\"Florida St.\", \"Florida State\", inplace = True)\n",
    "collegebasketball.replace(\"Fresno St.\", \"Fresno State\", inplace = True) \n",
    "collegebasketball.replace(\"Gardner Webb\", \"Gardner-Webb\", inplace = True) \n",
    "collegebasketball.replace(\"Georgia St.\", \"Georgia State\", inplace = True) \n",
    "collegebasketball.replace(\"Iowa St.\", \"Iowa State\", inplace = True) \n",
    "collegebasketball.replace(\"Jacksonville St.\", \"Jacksonville State\", inplace = True) \n",
    "collegebasketball.replace(\"Kansas St.\", \"Kansas State\", inplace = True) \n",
    "collegebasketball.replace(\"Kent St.\", \"Kent State\", inplace = True) \n",
    "collegebasketball.replace(\"LIU Brooklyn\", \"Long Island University\", inplace = True) \n",
    "collegebasketball.replace(\"Miami FL\", \"Miami (FL)\", inplace = True)  \n",
    "collegebasketball.replace(\"Michigan St.\", \"Michigan State\", inplace = True) \n",
    "collegebasketball.replace(\"Mississippi St.\", \"Mississippi State\", inplace = True) \n",
    "collegebasketball.replace(\"Murray St.\", \"Murray State\", inplace = True) \n",
    "collegebasketball.replace(\"New Mexico St.\", \"New Mexico State\", inplace = True) \n",
    "collegebasketball.replace(\"North Carolina St.\", \"North Carolina State\", inplace = True) \n",
    "collegebasketball.replace(\"North Dakota St.\", \"North Dakota State\", inplace = True) \n",
    "collegebasketball.replace(\"Ohio St.\", \"Ohio State\", inplace = True) \n",
    "collegebasketball.replace(\"Oklahoma St.\", \"Oklahoma State\", inplace = True) \n",
    "collegebasketball.replace(\"Oregon St.\", \"Oregon State\", inplace = True) \n",
    "collegebasketball.replace(\"Penn\", \"Pennsylvania\", inplace = True) \n",
    "collegebasketball.replace(\"Prairie View A&M\", \"Prairie View\", inplace = True)\n",
    "collegebasketball.replace(\"Saint Mary's\", \"Saint Mary's (CA)\", inplace = True) \n",
    "collegebasketball.replace(\"San Diego St.\", \"San Diego State\", inplace = True) \n",
    "collegebasketball.replace(\"SMU\", \"Southern Methodist\", inplace = True) \n",
    "collegebasketball.replace(\"South Dakota St.\", \"South Dakota State\", inplace = True) \n",
    "collegebasketball.replace(\"St. John's\", \"St. John's (NY)\", inplace = True) \n",
    "collegebasketball.replace(\"TCU\", \"Texas Christian\", inplace = True) \n",
    "collegebasketball.replace(\"UC Davis\", \"UC-Davis\", inplace = True) \n",
    "collegebasketball.replace(\"UC Irvine\", \"UC-Irvine\", inplace = True) \n",
    "collegebasketball.replace(\"UCF\", \"Central Florida\", inplace = True) \n",
    "collegebasketball.replace(\"UMBC\", \"Maryland-Baltimore County\", inplace = True) \n",
    "collegebasketball.replace(\"UNC Asheville\", \"North Carolina-Asheville\", inplace = True) \n",
    "collegebasketball.replace(\"UNC Greensboro\", \"North Carolina-Greensboro\", inplace = True) \n",
    "collegebasketball.replace(\"UNC Wilmington\", \"North Carolina-Wilmington\", inplace = True) \n",
    "collegebasketball.replace(\"USC\", \"Southern California\", inplace = True) \n",
    "collegebasketball.replace(\"Utah St.\", \"Utah State\", inplace = True) \n",
    "collegebasketball.replace(\"VCU\", \"Virginia Commonwealth\", inplace = True) \n",
    "collegebasketball.replace(\"Weber St.\", \"Weber State\", inplace = True) \n",
    "collegebasketball.replace(\"Wichita St.\", \"Wichita State\", inplace = True) \n",
    "collegebasketball.replace(\"Wright St.\", \"Wright State\", inplace = True) "
   ]
  },
  {
   "cell_type": "code",
   "execution_count": 257,
   "metadata": {},
   "outputs": [
    {
     "data": {
      "text/html": [
       "<div>\n",
       "<style scoped>\n",
       "    .dataframe tbody tr th:only-of-type {\n",
       "        vertical-align: middle;\n",
       "    }\n",
       "\n",
       "    .dataframe tbody tr th {\n",
       "        vertical-align: top;\n",
       "    }\n",
       "\n",
       "    .dataframe thead th {\n",
       "        text-align: right;\n",
       "    }\n",
       "</style>\n",
       "<table border=\"1\" class=\"dataframe\">\n",
       "  <thead>\n",
       "    <tr style=\"text-align: right;\">\n",
       "      <th></th>\n",
       "      <th>Year</th>\n",
       "      <th>TeamID</th>\n",
       "      <th>School</th>\n",
       "      <th>538rating</th>\n",
       "    </tr>\n",
       "  </thead>\n",
       "  <tbody>\n",
       "    <tr>\n",
       "      <th>0</th>\n",
       "      <td>2016</td>\n",
       "      <td>1242</td>\n",
       "      <td>Kansas</td>\n",
       "      <td>94.46</td>\n",
       "    </tr>\n",
       "    <tr>\n",
       "      <th>1</th>\n",
       "      <td>2016</td>\n",
       "      <td>1314</td>\n",
       "      <td>North Carolina</td>\n",
       "      <td>93.94</td>\n",
       "    </tr>\n",
       "    <tr>\n",
       "      <th>2</th>\n",
       "      <td>2016</td>\n",
       "      <td>1438</td>\n",
       "      <td>Virginia</td>\n",
       "      <td>92.46</td>\n",
       "    </tr>\n",
       "    <tr>\n",
       "      <th>3</th>\n",
       "      <td>2016</td>\n",
       "      <td>1277</td>\n",
       "      <td>Michigan State</td>\n",
       "      <td>91.84</td>\n",
       "    </tr>\n",
       "    <tr>\n",
       "      <th>4</th>\n",
       "      <td>2016</td>\n",
       "      <td>1328</td>\n",
       "      <td>Oklahoma</td>\n",
       "      <td>89.96</td>\n",
       "    </tr>\n",
       "  </tbody>\n",
       "</table>\n",
       "</div>"
      ],
      "text/plain": [
       "   Year  TeamID          School  538rating\n",
       "0  2016    1242          Kansas      94.46\n",
       "1  2016    1314  North Carolina      93.94\n",
       "2  2016    1438        Virginia      92.46\n",
       "3  2016    1277  Michigan State      91.84\n",
       "4  2016    1328        Oklahoma      89.96"
      ]
     },
     "execution_count": 257,
     "metadata": {},
     "output_type": "execute_result"
    }
   ],
   "source": [
    "five38_ratings.head()"
   ]
  },
  {
   "cell_type": "code",
   "execution_count": 258,
   "metadata": {},
   "outputs": [
    {
     "data": {
      "text/html": [
       "<div>\n",
       "<style scoped>\n",
       "    .dataframe tbody tr th:only-of-type {\n",
       "        vertical-align: middle;\n",
       "    }\n",
       "\n",
       "    .dataframe tbody tr th {\n",
       "        vertical-align: top;\n",
       "    }\n",
       "\n",
       "    .dataframe thead th {\n",
       "        text-align: right;\n",
       "    }\n",
       "</style>\n",
       "<table border=\"1\" class=\"dataframe\">\n",
       "  <thead>\n",
       "    <tr style=\"text-align: right;\">\n",
       "      <th></th>\n",
       "      <th>School</th>\n",
       "      <th>CONF</th>\n",
       "      <th>G</th>\n",
       "      <th>W</th>\n",
       "      <th>ADJOE</th>\n",
       "      <th>ADJDE</th>\n",
       "      <th>BARTHAG</th>\n",
       "      <th>EFG_O</th>\n",
       "      <th>EFG_D</th>\n",
       "      <th>TOR</th>\n",
       "      <th>...</th>\n",
       "      <th>FTRD</th>\n",
       "      <th>2P_O</th>\n",
       "      <th>2P_D</th>\n",
       "      <th>3P_O</th>\n",
       "      <th>3P_D</th>\n",
       "      <th>ADJ_T</th>\n",
       "      <th>WAB</th>\n",
       "      <th>POSTSEASON</th>\n",
       "      <th>SEED</th>\n",
       "      <th>Year</th>\n",
       "    </tr>\n",
       "  </thead>\n",
       "  <tbody>\n",
       "    <tr>\n",
       "      <th>0</th>\n",
       "      <td>North Carolina</td>\n",
       "      <td>ACC</td>\n",
       "      <td>40</td>\n",
       "      <td>33</td>\n",
       "      <td>123.3</td>\n",
       "      <td>94.9</td>\n",
       "      <td>0.9531</td>\n",
       "      <td>52.6</td>\n",
       "      <td>48.1</td>\n",
       "      <td>15.4</td>\n",
       "      <td>...</td>\n",
       "      <td>30.4</td>\n",
       "      <td>53.9</td>\n",
       "      <td>44.6</td>\n",
       "      <td>32.7</td>\n",
       "      <td>36.2</td>\n",
       "      <td>71.7</td>\n",
       "      <td>8.6</td>\n",
       "      <td>2ND</td>\n",
       "      <td>1.0</td>\n",
       "      <td>2016</td>\n",
       "    </tr>\n",
       "    <tr>\n",
       "      <th>2</th>\n",
       "      <td>Michigan</td>\n",
       "      <td>B10</td>\n",
       "      <td>40</td>\n",
       "      <td>33</td>\n",
       "      <td>114.4</td>\n",
       "      <td>90.4</td>\n",
       "      <td>0.9375</td>\n",
       "      <td>53.9</td>\n",
       "      <td>47.7</td>\n",
       "      <td>14.0</td>\n",
       "      <td>...</td>\n",
       "      <td>30.0</td>\n",
       "      <td>54.7</td>\n",
       "      <td>46.8</td>\n",
       "      <td>35.2</td>\n",
       "      <td>33.2</td>\n",
       "      <td>65.9</td>\n",
       "      <td>6.9</td>\n",
       "      <td>2ND</td>\n",
       "      <td>3.0</td>\n",
       "      <td>2018</td>\n",
       "    </tr>\n",
       "    <tr>\n",
       "      <th>3</th>\n",
       "      <td>Texas Tech</td>\n",
       "      <td>B12</td>\n",
       "      <td>38</td>\n",
       "      <td>31</td>\n",
       "      <td>115.2</td>\n",
       "      <td>85.2</td>\n",
       "      <td>0.9696</td>\n",
       "      <td>53.5</td>\n",
       "      <td>43.0</td>\n",
       "      <td>17.7</td>\n",
       "      <td>...</td>\n",
       "      <td>36.6</td>\n",
       "      <td>52.8</td>\n",
       "      <td>41.9</td>\n",
       "      <td>36.5</td>\n",
       "      <td>29.7</td>\n",
       "      <td>67.5</td>\n",
       "      <td>7.0</td>\n",
       "      <td>2ND</td>\n",
       "      <td>3.0</td>\n",
       "      <td>2019</td>\n",
       "    </tr>\n",
       "    <tr>\n",
       "      <th>4</th>\n",
       "      <td>Gonzaga</td>\n",
       "      <td>WCC</td>\n",
       "      <td>39</td>\n",
       "      <td>37</td>\n",
       "      <td>117.8</td>\n",
       "      <td>86.3</td>\n",
       "      <td>0.9728</td>\n",
       "      <td>56.6</td>\n",
       "      <td>41.1</td>\n",
       "      <td>16.2</td>\n",
       "      <td>...</td>\n",
       "      <td>26.9</td>\n",
       "      <td>56.3</td>\n",
       "      <td>40.0</td>\n",
       "      <td>38.2</td>\n",
       "      <td>29.0</td>\n",
       "      <td>71.5</td>\n",
       "      <td>7.7</td>\n",
       "      <td>2ND</td>\n",
       "      <td>1.0</td>\n",
       "      <td>2017</td>\n",
       "    </tr>\n",
       "    <tr>\n",
       "      <th>8</th>\n",
       "      <td>Virginia</td>\n",
       "      <td>ACC</td>\n",
       "      <td>38</td>\n",
       "      <td>35</td>\n",
       "      <td>123.0</td>\n",
       "      <td>89.9</td>\n",
       "      <td>0.9736</td>\n",
       "      <td>55.2</td>\n",
       "      <td>44.7</td>\n",
       "      <td>14.7</td>\n",
       "      <td>...</td>\n",
       "      <td>26.3</td>\n",
       "      <td>52.5</td>\n",
       "      <td>45.7</td>\n",
       "      <td>39.5</td>\n",
       "      <td>28.9</td>\n",
       "      <td>60.7</td>\n",
       "      <td>11.1</td>\n",
       "      <td>Champions</td>\n",
       "      <td>1.0</td>\n",
       "      <td>2019</td>\n",
       "    </tr>\n",
       "  </tbody>\n",
       "</table>\n",
       "<p>5 rows × 24 columns</p>\n",
       "</div>"
      ],
      "text/plain": [
       "           School CONF   G   W  ADJOE  ADJDE  BARTHAG  EFG_O  EFG_D   TOR  \\\n",
       "0  North Carolina  ACC  40  33  123.3   94.9   0.9531   52.6   48.1  15.4   \n",
       "2        Michigan  B10  40  33  114.4   90.4   0.9375   53.9   47.7  14.0   \n",
       "3      Texas Tech  B12  38  31  115.2   85.2   0.9696   53.5   43.0  17.7   \n",
       "4         Gonzaga  WCC  39  37  117.8   86.3   0.9728   56.6   41.1  16.2   \n",
       "8        Virginia  ACC  38  35  123.0   89.9   0.9736   55.2   44.7  14.7   \n",
       "\n",
       "   ...  FTRD  2P_O  2P_D  3P_O  3P_D  ADJ_T   WAB  POSTSEASON  SEED  Year  \n",
       "0  ...  30.4  53.9  44.6  32.7  36.2   71.7   8.6         2ND   1.0  2016  \n",
       "2  ...  30.0  54.7  46.8  35.2  33.2   65.9   6.9         2ND   3.0  2018  \n",
       "3  ...  36.6  52.8  41.9  36.5  29.7   67.5   7.0         2ND   3.0  2019  \n",
       "4  ...  26.9  56.3  40.0  38.2  29.0   71.5   7.7         2ND   1.0  2017  \n",
       "8  ...  26.3  52.5  45.7  39.5  28.9   60.7  11.1   Champions   1.0  2019  \n",
       "\n",
       "[5 rows x 24 columns]"
      ]
     },
     "execution_count": 258,
     "metadata": {},
     "output_type": "execute_result"
    }
   ],
   "source": [
    "collegebasketball.head()"
   ]
  },
  {
   "cell_type": "code",
   "execution_count": 259,
   "metadata": {},
   "outputs": [],
   "source": [
    "basketballstats = collegebasketball[collegebasketball.POSTSEASON.notnull()]"
   ]
  },
  {
   "cell_type": "code",
   "execution_count": 260,
   "metadata": {},
   "outputs": [
    {
     "name": "stderr",
     "output_type": "stream",
     "text": [
      "<ipython-input-260-387fe251b745>:1: SettingWithCopyWarning: \n",
      "A value is trying to be set on a copy of a slice from a DataFrame.\n",
      "Try using .loc[row_indexer,col_indexer] = value instead\n",
      "\n",
      "See the caveats in the documentation: https://pandas.pydata.org/pandas-docs/stable/user_guide/indexing.html#returning-a-view-versus-a-copy\n",
      "  basketballstats['final_four'] = 0\n"
     ]
    }
   ],
   "source": [
    "basketballstats['final_four'] = 0"
   ]
  },
  {
   "cell_type": "code",
   "execution_count": 261,
   "metadata": {},
   "outputs": [
    {
     "name": "stderr",
     "output_type": "stream",
     "text": [
      "C:\\Users\\justi\\anaconda3\\lib\\site-packages\\pandas\\core\\indexing.py:966: SettingWithCopyWarning: \n",
      "A value is trying to be set on a copy of a slice from a DataFrame.\n",
      "Try using .loc[row_indexer,col_indexer] = value instead\n",
      "\n",
      "See the caveats in the documentation: https://pandas.pydata.org/pandas-docs/stable/user_guide/indexing.html#returning-a-view-versus-a-copy\n",
      "  self.obj[item] = s\n"
     ]
    }
   ],
   "source": [
    "basketballstats.loc[basketballstats['POSTSEASON'] == \"Champions\",'final_four'] = 1\n",
    "basketballstats.loc[basketballstats['POSTSEASON'] == \"2ND\",'final_four'] = 1\n",
    "basketballstats.loc[basketballstats['POSTSEASON'] == \"F4\",'final_four'] = 1"
   ]
  },
  {
   "cell_type": "code",
   "execution_count": 262,
   "metadata": {},
   "outputs": [
    {
     "name": "stderr",
     "output_type": "stream",
     "text": [
      "<ipython-input-262-3792eeab4489>:1: SettingWithCopyWarning: \n",
      "A value is trying to be set on a copy of a slice from a DataFrame.\n",
      "Try using .loc[row_indexer,col_indexer] = value instead\n",
      "\n",
      "See the caveats in the documentation: https://pandas.pydata.org/pandas-docs/stable/user_guide/indexing.html#returning-a-view-versus-a-copy\n",
      "  basketballstats[\"win_percentage\"] = basketballstats[\"W\"]/basketballstats[\"G\"]\n"
     ]
    }
   ],
   "source": [
    "basketballstats[\"win_percentage\"] = basketballstats[\"W\"]/basketballstats[\"G\"]"
   ]
  },
  {
   "cell_type": "code",
   "execution_count": 264,
   "metadata": {},
   "outputs": [],
   "source": [
    "basketballstats1 = pd.merge(basketballstats, five38_ratings, on = ['School', 'Year'])"
   ]
  },
  {
   "cell_type": "code",
   "execution_count": 269,
   "metadata": {},
   "outputs": [],
   "source": [
    "basketballstats1[\"elite_eight\"] = 0\n",
    "basketballstats1.loc[basketballstats1['POSTSEASON'] == \"Champions\",'elite_eight'] = 1\n",
    "basketballstats1.loc[basketballstats1['POSTSEASON'] == \"2ND\",'elite_eight'] = 1\n",
    "basketballstats1.loc[basketballstats1['POSTSEASON'] == \"F4\",'elite_eight'] = 1\n",
    "basketballstats1.loc[basketballstats1['POSTSEASON'] == \"E8\",'elite_eight'] = 1"
   ]
  },
  {
   "cell_type": "code",
   "execution_count": 277,
   "metadata": {},
   "outputs": [],
   "source": [
    "basketballstats1[\"sweet_sixteen\"] = 0\n",
    "basketballstats1.loc[basketballstats1['POSTSEASON'] == \"Champions\",'sweet_sixteen'] = 1\n",
    "basketballstats1.loc[basketballstats1['POSTSEASON'] == \"2ND\",'sweet_sixteen'] = 1\n",
    "basketballstats1.loc[basketballstats1['POSTSEASON'] == \"F4\",'sweet_sixteen'] = 1\n",
    "basketballstats1.loc[basketballstats1['POSTSEASON'] == \"E8\",'sweet_sixteen'] = 1\n",
    "basketballstats1.loc[basketballstats1['POSTSEASON'] == \"S16\",'sweet_sixteen'] = 1"
   ]
  },
  {
   "cell_type": "code",
   "execution_count": 280,
   "metadata": {},
   "outputs": [],
   "source": [
    "basketballstats1[\"r32\"] = 0\n",
    "basketballstats1.loc[basketballstats1['POSTSEASON'] == \"Champions\",'r32'] = 1\n",
    "basketballstats1.loc[basketballstats1['POSTSEASON'] == \"2ND\",'r32'] = 1\n",
    "basketballstats1.loc[basketballstats1['POSTSEASON'] == \"F4\",'r32'] = 1\n",
    "basketballstats1.loc[basketballstats1['POSTSEASON'] == \"E8\",'r32'] = 1\n",
    "basketballstats1.loc[basketballstats1['POSTSEASON'] == \"S16\",'r32'] = 1\n",
    "basketballstats1.loc[basketballstats1['POSTSEASON'] == \"R32\",'r32'] = 1"
   ]
  },
  {
   "cell_type": "code",
   "execution_count": 62,
   "metadata": {},
   "outputs": [
    {
     "data": {
      "text/html": [
       "<div>\n",
       "<style scoped>\n",
       "    .dataframe tbody tr th:only-of-type {\n",
       "        vertical-align: middle;\n",
       "    }\n",
       "\n",
       "    .dataframe tbody tr th {\n",
       "        vertical-align: top;\n",
       "    }\n",
       "\n",
       "    .dataframe thead th {\n",
       "        text-align: right;\n",
       "    }\n",
       "</style>\n",
       "<table border=\"1\" class=\"dataframe\">\n",
       "  <thead>\n",
       "    <tr style=\"text-align: right;\">\n",
       "      <th></th>\n",
       "      <th>Year</th>\n",
       "      <th>School</th>\n",
       "      <th>Conference</th>\n",
       "      <th>Host Region</th>\n",
       "      <th>Place (1st, 2nt, 3rd)</th>\n",
       "    </tr>\n",
       "  </thead>\n",
       "  <tbody>\n",
       "    <tr>\n",
       "      <th>308</th>\n",
       "      <td>2016</td>\n",
       "      <td>North Carolina</td>\n",
       "      <td>Atlantic Coast</td>\n",
       "      <td>East</td>\n",
       "      <td>2</td>\n",
       "    </tr>\n",
       "    <tr>\n",
       "      <th>309</th>\n",
       "      <td>2016</td>\n",
       "      <td>Oklahoma</td>\n",
       "      <td>Big 12</td>\n",
       "      <td>West</td>\n",
       "      <td>3</td>\n",
       "    </tr>\n",
       "    <tr>\n",
       "      <th>310</th>\n",
       "      <td>2016</td>\n",
       "      <td>Syracuse</td>\n",
       "      <td>Atlantic Coast</td>\n",
       "      <td>MidWest</td>\n",
       "      <td>3</td>\n",
       "    </tr>\n",
       "    <tr>\n",
       "      <th>311</th>\n",
       "      <td>2016</td>\n",
       "      <td>Villanova</td>\n",
       "      <td>Big East</td>\n",
       "      <td>South</td>\n",
       "      <td>1</td>\n",
       "    </tr>\n",
       "    <tr>\n",
       "      <th>312</th>\n",
       "      <td>2017</td>\n",
       "      <td>Gonzaga</td>\n",
       "      <td>West Coast</td>\n",
       "      <td>West</td>\n",
       "      <td>2</td>\n",
       "    </tr>\n",
       "    <tr>\n",
       "      <th>313</th>\n",
       "      <td>2017</td>\n",
       "      <td>North Carolina</td>\n",
       "      <td>Atlantic Coast</td>\n",
       "      <td>South</td>\n",
       "      <td>1</td>\n",
       "    </tr>\n",
       "    <tr>\n",
       "      <th>314</th>\n",
       "      <td>2017</td>\n",
       "      <td>Oregon</td>\n",
       "      <td>Pacific- 12</td>\n",
       "      <td>MidWest</td>\n",
       "      <td>3</td>\n",
       "    </tr>\n",
       "    <tr>\n",
       "      <th>315</th>\n",
       "      <td>2017</td>\n",
       "      <td>South Carolina</td>\n",
       "      <td>Southeastern</td>\n",
       "      <td>East</td>\n",
       "      <td>3</td>\n",
       "    </tr>\n",
       "    <tr>\n",
       "      <th>316</th>\n",
       "      <td>2018</td>\n",
       "      <td>Kansas</td>\n",
       "      <td>Big 12</td>\n",
       "      <td>MidWest</td>\n",
       "      <td>3</td>\n",
       "    </tr>\n",
       "    <tr>\n",
       "      <th>317</th>\n",
       "      <td>2018</td>\n",
       "      <td>Loyola Chicago</td>\n",
       "      <td>Missouri Valley</td>\n",
       "      <td>South</td>\n",
       "      <td>3</td>\n",
       "    </tr>\n",
       "    <tr>\n",
       "      <th>318</th>\n",
       "      <td>2018</td>\n",
       "      <td>Michigan</td>\n",
       "      <td>Big Ten</td>\n",
       "      <td>West</td>\n",
       "      <td>2</td>\n",
       "    </tr>\n",
       "    <tr>\n",
       "      <th>319</th>\n",
       "      <td>2018</td>\n",
       "      <td>Villanova</td>\n",
       "      <td>Big East</td>\n",
       "      <td>East</td>\n",
       "      <td>1</td>\n",
       "    </tr>\n",
       "    <tr>\n",
       "      <th>320</th>\n",
       "      <td>2019</td>\n",
       "      <td>Auburn</td>\n",
       "      <td>Southeastern</td>\n",
       "      <td>MidWest</td>\n",
       "      <td>3</td>\n",
       "    </tr>\n",
       "    <tr>\n",
       "      <th>321</th>\n",
       "      <td>2019</td>\n",
       "      <td>Michigan State</td>\n",
       "      <td>Big Ten</td>\n",
       "      <td>East</td>\n",
       "      <td>3</td>\n",
       "    </tr>\n",
       "    <tr>\n",
       "      <th>322</th>\n",
       "      <td>2019</td>\n",
       "      <td>Texas Tech</td>\n",
       "      <td>Big 12</td>\n",
       "      <td>West</td>\n",
       "      <td>2</td>\n",
       "    </tr>\n",
       "    <tr>\n",
       "      <th>323</th>\n",
       "      <td>2019</td>\n",
       "      <td>Virginia</td>\n",
       "      <td>Atlantic Coast</td>\n",
       "      <td>South</td>\n",
       "      <td>1</td>\n",
       "    </tr>\n",
       "  </tbody>\n",
       "</table>\n",
       "</div>"
      ],
      "text/plain": [
       "     Year          School     Conference   Host Region  Place (1st, 2nt, 3rd)\n",
       "308  2016  North Carolina   Atlantic Coast        East                      2\n",
       "309  2016        Oklahoma           Big 12        West                      3\n",
       "310  2016        Syracuse   Atlantic Coast     MidWest                      3\n",
       "311  2016       Villanova         Big East       South                      1\n",
       "312  2017         Gonzaga       West Coast        West                      2\n",
       "313  2017  North Carolina   Atlantic Coast       South                      1\n",
       "314  2017          Oregon      Pacific- 12     MidWest                      3\n",
       "315  2017  South Carolina     Southeastern        East                      3\n",
       "316  2018          Kansas           Big 12     MidWest                      3\n",
       "317  2018  Loyola Chicago  Missouri Valley       South                      3\n",
       "318  2018        Michigan          Big Ten        West                      2\n",
       "319  2018       Villanova         Big East        East                      1\n",
       "320  2019          Auburn     Southeastern     MidWest                      3\n",
       "321  2019  Michigan State          Big Ten        East                      3\n",
       "322  2019      Texas Tech           Big 12        West                      2\n",
       "323  2019        Virginia   Atlantic Coast       South                      1"
      ]
     },
     "execution_count": 62,
     "metadata": {},
     "output_type": "execute_result"
    }
   ],
   "source": [
    "placement"
   ]
  },
  {
   "cell_type": "code",
   "execution_count": 7,
   "metadata": {
    "scrolled": true
   },
   "outputs": [
    {
     "data": {
      "text/html": [
       "<div>\n",
       "<style scoped>\n",
       "    .dataframe tbody tr th:only-of-type {\n",
       "        vertical-align: middle;\n",
       "    }\n",
       "\n",
       "    .dataframe tbody tr th {\n",
       "        vertical-align: top;\n",
       "    }\n",
       "\n",
       "    .dataframe thead th {\n",
       "        text-align: right;\n",
       "    }\n",
       "</style>\n",
       "<table border=\"1\" class=\"dataframe\">\n",
       "  <thead>\n",
       "    <tr style=\"text-align: right;\">\n",
       "      <th></th>\n",
       "      <th>Year</th>\n",
       "      <th>TeamID</th>\n",
       "      <th>School</th>\n",
       "      <th>538rating</th>\n",
       "      <th>Conference</th>\n",
       "      <th>Host Region</th>\n",
       "      <th>Place</th>\n",
       "      <th>CONF</th>\n",
       "      <th>G</th>\n",
       "      <th>W</th>\n",
       "      <th>...</th>\n",
       "      <th>FTR</th>\n",
       "      <th>FTRD</th>\n",
       "      <th>2P_O</th>\n",
       "      <th>2P_D</th>\n",
       "      <th>3P_O</th>\n",
       "      <th>3P_D</th>\n",
       "      <th>ADJ_T</th>\n",
       "      <th>WAB</th>\n",
       "      <th>POSTSEASON</th>\n",
       "      <th>SEED</th>\n",
       "    </tr>\n",
       "  </thead>\n",
       "  <tbody>\n",
       "    <tr>\n",
       "      <th>24</th>\n",
       "      <td>2016</td>\n",
       "      <td>1437</td>\n",
       "      <td>Villanova</td>\n",
       "      <td>91.29</td>\n",
       "      <td>Big East</td>\n",
       "      <td>South</td>\n",
       "      <td>1</td>\n",
       "      <td>BE</td>\n",
       "      <td>40</td>\n",
       "      <td>35</td>\n",
       "      <td>...</td>\n",
       "      <td>34.1</td>\n",
       "      <td>30.0</td>\n",
       "      <td>57.4</td>\n",
       "      <td>44.1</td>\n",
       "      <td>36.2</td>\n",
       "      <td>33.9</td>\n",
       "      <td>66.7</td>\n",
       "      <td>8.9</td>\n",
       "      <td>Champions</td>\n",
       "      <td>2.0</td>\n",
       "    </tr>\n",
       "    <tr>\n",
       "      <th>4</th>\n",
       "      <td>2016</td>\n",
       "      <td>1314</td>\n",
       "      <td>North Carolina</td>\n",
       "      <td>93.94</td>\n",
       "      <td>Atlantic Coast</td>\n",
       "      <td>East</td>\n",
       "      <td>2</td>\n",
       "      <td>ACC</td>\n",
       "      <td>40</td>\n",
       "      <td>33</td>\n",
       "      <td>...</td>\n",
       "      <td>32.3</td>\n",
       "      <td>30.4</td>\n",
       "      <td>53.9</td>\n",
       "      <td>44.6</td>\n",
       "      <td>32.7</td>\n",
       "      <td>36.2</td>\n",
       "      <td>71.7</td>\n",
       "      <td>8.6</td>\n",
       "      <td>2ND</td>\n",
       "      <td>1.0</td>\n",
       "    </tr>\n",
       "    <tr>\n",
       "      <th>20</th>\n",
       "      <td>2016</td>\n",
       "      <td>1328</td>\n",
       "      <td>Oklahoma</td>\n",
       "      <td>89.96</td>\n",
       "      <td>Big 12</td>\n",
       "      <td>West</td>\n",
       "      <td>3</td>\n",
       "      <td>B12</td>\n",
       "      <td>37</td>\n",
       "      <td>29</td>\n",
       "      <td>...</td>\n",
       "      <td>33.0</td>\n",
       "      <td>28.3</td>\n",
       "      <td>48.2</td>\n",
       "      <td>45.3</td>\n",
       "      <td>42.2</td>\n",
       "      <td>33.7</td>\n",
       "      <td>70.8</td>\n",
       "      <td>8.0</td>\n",
       "      <td>F4</td>\n",
       "      <td>2.0</td>\n",
       "    </tr>\n",
       "    <tr>\n",
       "      <th>40</th>\n",
       "      <td>2016</td>\n",
       "      <td>1393</td>\n",
       "      <td>Syracuse</td>\n",
       "      <td>82.69</td>\n",
       "      <td>Atlantic Coast</td>\n",
       "      <td>MidWest</td>\n",
       "      <td>3</td>\n",
       "      <td>ACC</td>\n",
       "      <td>37</td>\n",
       "      <td>23</td>\n",
       "      <td>...</td>\n",
       "      <td>35.4</td>\n",
       "      <td>28.0</td>\n",
       "      <td>47.2</td>\n",
       "      <td>48.1</td>\n",
       "      <td>36.0</td>\n",
       "      <td>30.7</td>\n",
       "      <td>65.5</td>\n",
       "      <td>-0.3</td>\n",
       "      <td>F4</td>\n",
       "      <td>10.0</td>\n",
       "    </tr>\n",
       "    <tr>\n",
       "      <th>9</th>\n",
       "      <td>2017</td>\n",
       "      <td>1314</td>\n",
       "      <td>North Carolina</td>\n",
       "      <td>91.74</td>\n",
       "      <td>Atlantic Coast</td>\n",
       "      <td>South</td>\n",
       "      <td>1</td>\n",
       "      <td>ACC</td>\n",
       "      <td>39</td>\n",
       "      <td>33</td>\n",
       "      <td>...</td>\n",
       "      <td>34.3</td>\n",
       "      <td>31.6</td>\n",
       "      <td>51.0</td>\n",
       "      <td>46.3</td>\n",
       "      <td>35.5</td>\n",
       "      <td>33.9</td>\n",
       "      <td>72.8</td>\n",
       "      <td>8.4</td>\n",
       "      <td>Champions</td>\n",
       "      <td>1.0</td>\n",
       "    </tr>\n",
       "    <tr>\n",
       "      <th>36</th>\n",
       "      <td>2017</td>\n",
       "      <td>1211</td>\n",
       "      <td>Gonzaga</td>\n",
       "      <td>93.71</td>\n",
       "      <td>West Coast</td>\n",
       "      <td>West</td>\n",
       "      <td>2</td>\n",
       "      <td>WCC</td>\n",
       "      <td>39</td>\n",
       "      <td>37</td>\n",
       "      <td>...</td>\n",
       "      <td>39.0</td>\n",
       "      <td>26.9</td>\n",
       "      <td>56.3</td>\n",
       "      <td>40.0</td>\n",
       "      <td>38.2</td>\n",
       "      <td>29.0</td>\n",
       "      <td>71.5</td>\n",
       "      <td>7.7</td>\n",
       "      <td>2ND</td>\n",
       "      <td>1.0</td>\n",
       "    </tr>\n",
       "    <tr>\n",
       "      <th>33</th>\n",
       "      <td>2017</td>\n",
       "      <td>1332</td>\n",
       "      <td>Oregon</td>\n",
       "      <td>87.30</td>\n",
       "      <td>Pacific- 12</td>\n",
       "      <td>MidWest</td>\n",
       "      <td>3</td>\n",
       "      <td>P12</td>\n",
       "      <td>38</td>\n",
       "      <td>33</td>\n",
       "      <td>...</td>\n",
       "      <td>34.4</td>\n",
       "      <td>26.3</td>\n",
       "      <td>54.5</td>\n",
       "      <td>46.1</td>\n",
       "      <td>38.0</td>\n",
       "      <td>31.2</td>\n",
       "      <td>68.4</td>\n",
       "      <td>6.0</td>\n",
       "      <td>F4</td>\n",
       "      <td>3.0</td>\n",
       "    </tr>\n",
       "    <tr>\n",
       "      <th>52</th>\n",
       "      <td>2017</td>\n",
       "      <td>1376</td>\n",
       "      <td>South Carolina</td>\n",
       "      <td>83.08</td>\n",
       "      <td>Southeastern</td>\n",
       "      <td>East</td>\n",
       "      <td>3</td>\n",
       "      <td>SEC</td>\n",
       "      <td>36</td>\n",
       "      <td>26</td>\n",
       "      <td>...</td>\n",
       "      <td>40.2</td>\n",
       "      <td>44.5</td>\n",
       "      <td>45.9</td>\n",
       "      <td>45.4</td>\n",
       "      <td>33.4</td>\n",
       "      <td>30.6</td>\n",
       "      <td>69.6</td>\n",
       "      <td>1.7</td>\n",
       "      <td>F4</td>\n",
       "      <td>7.0</td>\n",
       "    </tr>\n",
       "    <tr>\n",
       "      <th>29</th>\n",
       "      <td>2018</td>\n",
       "      <td>1437</td>\n",
       "      <td>Villanova</td>\n",
       "      <td>94.92</td>\n",
       "      <td>Big East</td>\n",
       "      <td>East</td>\n",
       "      <td>1</td>\n",
       "      <td>BE</td>\n",
       "      <td>40</td>\n",
       "      <td>36</td>\n",
       "      <td>...</td>\n",
       "      <td>29.4</td>\n",
       "      <td>26.7</td>\n",
       "      <td>59.0</td>\n",
       "      <td>49.0</td>\n",
       "      <td>40.1</td>\n",
       "      <td>31.7</td>\n",
       "      <td>69.6</td>\n",
       "      <td>10.6</td>\n",
       "      <td>Champions</td>\n",
       "      <td>1.0</td>\n",
       "    </tr>\n",
       "    <tr>\n",
       "      <th>48</th>\n",
       "      <td>2018</td>\n",
       "      <td>1276</td>\n",
       "      <td>Michigan</td>\n",
       "      <td>88.54</td>\n",
       "      <td>Big Ten</td>\n",
       "      <td>West</td>\n",
       "      <td>2</td>\n",
       "      <td>B10</td>\n",
       "      <td>40</td>\n",
       "      <td>33</td>\n",
       "      <td>...</td>\n",
       "      <td>30.7</td>\n",
       "      <td>30.0</td>\n",
       "      <td>54.7</td>\n",
       "      <td>46.8</td>\n",
       "      <td>35.2</td>\n",
       "      <td>33.2</td>\n",
       "      <td>65.9</td>\n",
       "      <td>6.9</td>\n",
       "      <td>2ND</td>\n",
       "      <td>3.0</td>\n",
       "    </tr>\n",
       "    <tr>\n",
       "      <th>2</th>\n",
       "      <td>2018</td>\n",
       "      <td>1242</td>\n",
       "      <td>Kansas</td>\n",
       "      <td>90.88</td>\n",
       "      <td>Big 12</td>\n",
       "      <td>MidWest</td>\n",
       "      <td>3</td>\n",
       "      <td>B12</td>\n",
       "      <td>39</td>\n",
       "      <td>31</td>\n",
       "      <td>...</td>\n",
       "      <td>27.0</td>\n",
       "      <td>24.6</td>\n",
       "      <td>55.6</td>\n",
       "      <td>48.6</td>\n",
       "      <td>40.1</td>\n",
       "      <td>33.3</td>\n",
       "      <td>69.9</td>\n",
       "      <td>8.2</td>\n",
       "      <td>F4</td>\n",
       "      <td>1.0</td>\n",
       "    </tr>\n",
       "    <tr>\n",
       "      <th>60</th>\n",
       "      <td>2018</td>\n",
       "      <td>1260</td>\n",
       "      <td>Loyola Chicago</td>\n",
       "      <td>81.28</td>\n",
       "      <td>Missouri Valley</td>\n",
       "      <td>South</td>\n",
       "      <td>3</td>\n",
       "      <td>MVC</td>\n",
       "      <td>37</td>\n",
       "      <td>32</td>\n",
       "      <td>...</td>\n",
       "      <td>32.2</td>\n",
       "      <td>25.2</td>\n",
       "      <td>56.6</td>\n",
       "      <td>47.1</td>\n",
       "      <td>39.8</td>\n",
       "      <td>32.0</td>\n",
       "      <td>66.4</td>\n",
       "      <td>2.0</td>\n",
       "      <td>F4</td>\n",
       "      <td>11.0</td>\n",
       "    </tr>\n",
       "    <tr>\n",
       "      <th>12</th>\n",
       "      <td>2019</td>\n",
       "      <td>1438</td>\n",
       "      <td>Virginia</td>\n",
       "      <td>95.22</td>\n",
       "      <td>Atlantic Coast</td>\n",
       "      <td>South</td>\n",
       "      <td>1</td>\n",
       "      <td>ACC</td>\n",
       "      <td>38</td>\n",
       "      <td>35</td>\n",
       "      <td>...</td>\n",
       "      <td>29.1</td>\n",
       "      <td>26.3</td>\n",
       "      <td>52.5</td>\n",
       "      <td>45.7</td>\n",
       "      <td>39.5</td>\n",
       "      <td>28.9</td>\n",
       "      <td>60.7</td>\n",
       "      <td>11.1</td>\n",
       "      <td>Champions</td>\n",
       "      <td>1.0</td>\n",
       "    </tr>\n",
       "    <tr>\n",
       "      <th>44</th>\n",
       "      <td>2019</td>\n",
       "      <td>1403</td>\n",
       "      <td>Texas Tech</td>\n",
       "      <td>89.65</td>\n",
       "      <td>Big 12</td>\n",
       "      <td>West</td>\n",
       "      <td>2</td>\n",
       "      <td>B12</td>\n",
       "      <td>38</td>\n",
       "      <td>31</td>\n",
       "      <td>...</td>\n",
       "      <td>32.9</td>\n",
       "      <td>36.6</td>\n",
       "      <td>52.8</td>\n",
       "      <td>41.9</td>\n",
       "      <td>36.5</td>\n",
       "      <td>29.7</td>\n",
       "      <td>67.5</td>\n",
       "      <td>7.0</td>\n",
       "      <td>2ND</td>\n",
       "      <td>3.0</td>\n",
       "    </tr>\n",
       "    <tr>\n",
       "      <th>16</th>\n",
       "      <td>2019</td>\n",
       "      <td>1277</td>\n",
       "      <td>Michigan State</td>\n",
       "      <td>92.28</td>\n",
       "      <td>Big Ten</td>\n",
       "      <td>East</td>\n",
       "      <td>3</td>\n",
       "      <td>B10</td>\n",
       "      <td>39</td>\n",
       "      <td>32</td>\n",
       "      <td>...</td>\n",
       "      <td>33.6</td>\n",
       "      <td>27.5</td>\n",
       "      <td>54.3</td>\n",
       "      <td>41.9</td>\n",
       "      <td>37.8</td>\n",
       "      <td>31.6</td>\n",
       "      <td>68.6</td>\n",
       "      <td>10.7</td>\n",
       "      <td>F4</td>\n",
       "      <td>2.0</td>\n",
       "    </tr>\n",
       "    <tr>\n",
       "      <th>56</th>\n",
       "      <td>2019</td>\n",
       "      <td>1120</td>\n",
       "      <td>Auburn</td>\n",
       "      <td>89.02</td>\n",
       "      <td>Southeastern</td>\n",
       "      <td>MidWest</td>\n",
       "      <td>3</td>\n",
       "      <td>SEC</td>\n",
       "      <td>39</td>\n",
       "      <td>30</td>\n",
       "      <td>...</td>\n",
       "      <td>30.9</td>\n",
       "      <td>36.4</td>\n",
       "      <td>51.7</td>\n",
       "      <td>51.4</td>\n",
       "      <td>38.1</td>\n",
       "      <td>34.8</td>\n",
       "      <td>69.3</td>\n",
       "      <td>6.1</td>\n",
       "      <td>F4</td>\n",
       "      <td>5.0</td>\n",
       "    </tr>\n",
       "  </tbody>\n",
       "</table>\n",
       "<p>16 rows × 29 columns</p>\n",
       "</div>"
      ],
      "text/plain": [
       "    Year  TeamID          School  538rating       Conference Host Region  \\\n",
       "24  2016    1437       Villanova      91.29         Big East       South   \n",
       "4   2016    1314  North Carolina      93.94   Atlantic Coast        East   \n",
       "20  2016    1328        Oklahoma      89.96           Big 12        West   \n",
       "40  2016    1393        Syracuse      82.69   Atlantic Coast     MidWest   \n",
       "9   2017    1314  North Carolina      91.74   Atlantic Coast       South   \n",
       "36  2017    1211         Gonzaga      93.71       West Coast        West   \n",
       "33  2017    1332          Oregon      87.30      Pacific- 12     MidWest   \n",
       "52  2017    1376  South Carolina      83.08     Southeastern        East   \n",
       "29  2018    1437       Villanova      94.92         Big East        East   \n",
       "48  2018    1276        Michigan      88.54          Big Ten        West   \n",
       "2   2018    1242          Kansas      90.88           Big 12     MidWest   \n",
       "60  2018    1260  Loyola Chicago      81.28  Missouri Valley       South   \n",
       "12  2019    1438        Virginia      95.22   Atlantic Coast       South   \n",
       "44  2019    1403      Texas Tech      89.65           Big 12        West   \n",
       "16  2019    1277  Michigan State      92.28          Big Ten        East   \n",
       "56  2019    1120          Auburn      89.02     Southeastern     MidWest   \n",
       "\n",
       "    Place CONF   G   W  ...   FTR  FTRD  2P_O  2P_D  3P_O  3P_D  ADJ_T   WAB  \\\n",
       "24      1   BE  40  35  ...  34.1  30.0  57.4  44.1  36.2  33.9   66.7   8.9   \n",
       "4       2  ACC  40  33  ...  32.3  30.4  53.9  44.6  32.7  36.2   71.7   8.6   \n",
       "20      3  B12  37  29  ...  33.0  28.3  48.2  45.3  42.2  33.7   70.8   8.0   \n",
       "40      3  ACC  37  23  ...  35.4  28.0  47.2  48.1  36.0  30.7   65.5  -0.3   \n",
       "9       1  ACC  39  33  ...  34.3  31.6  51.0  46.3  35.5  33.9   72.8   8.4   \n",
       "36      2  WCC  39  37  ...  39.0  26.9  56.3  40.0  38.2  29.0   71.5   7.7   \n",
       "33      3  P12  38  33  ...  34.4  26.3  54.5  46.1  38.0  31.2   68.4   6.0   \n",
       "52      3  SEC  36  26  ...  40.2  44.5  45.9  45.4  33.4  30.6   69.6   1.7   \n",
       "29      1   BE  40  36  ...  29.4  26.7  59.0  49.0  40.1  31.7   69.6  10.6   \n",
       "48      2  B10  40  33  ...  30.7  30.0  54.7  46.8  35.2  33.2   65.9   6.9   \n",
       "2       3  B12  39  31  ...  27.0  24.6  55.6  48.6  40.1  33.3   69.9   8.2   \n",
       "60      3  MVC  37  32  ...  32.2  25.2  56.6  47.1  39.8  32.0   66.4   2.0   \n",
       "12      1  ACC  38  35  ...  29.1  26.3  52.5  45.7  39.5  28.9   60.7  11.1   \n",
       "44      2  B12  38  31  ...  32.9  36.6  52.8  41.9  36.5  29.7   67.5   7.0   \n",
       "16      3  B10  39  32  ...  33.6  27.5  54.3  41.9  37.8  31.6   68.6  10.7   \n",
       "56      3  SEC  39  30  ...  30.9  36.4  51.7  51.4  38.1  34.8   69.3   6.1   \n",
       "\n",
       "    POSTSEASON  SEED  \n",
       "24   Champions   2.0  \n",
       "4          2ND   1.0  \n",
       "20          F4   2.0  \n",
       "40          F4  10.0  \n",
       "9    Champions   1.0  \n",
       "36         2ND   1.0  \n",
       "33          F4   3.0  \n",
       "52          F4   7.0  \n",
       "29   Champions   1.0  \n",
       "48         2ND   3.0  \n",
       "2           F4   1.0  \n",
       "60          F4  11.0  \n",
       "12   Champions   1.0  \n",
       "44         2ND   3.0  \n",
       "16          F4   2.0  \n",
       "56          F4   5.0  \n",
       "\n",
       "[16 rows x 29 columns]"
      ]
     },
     "execution_count": 7,
     "metadata": {},
     "output_type": "execute_result"
    }
   ],
   "source": [
    "# Merging datasets: \n",
    "\n",
    "first = pd.merge(five38_ratings, placement, on = 'School')\n",
    "first = first[(first.Year_x == first.Year_y)]\n",
    "first.drop(columns=['Year_y'], inplace = True)\n",
    "first.rename(columns={'Year_x': 'Year', \"Place (1st, 2nt, 3rd)\": \"Place\"}, inplace=True)\n",
    "\n",
    "# Finishing Merge to Master Dataset\n",
    "\n",
    "master = pd.merge(first, collegebasketball, on = 'School')\n",
    "master = master[(master.Year_x == master.Year_y)]\n",
    "master.drop(columns=['Year_y'], inplace = True)\n",
    "master.rename(columns={'Year_x': 'Year', \"Conference  \": \"Conference\"}, inplace=True)\n",
    "master.sort_values(by=['Year', \"Place\"])"
   ]
  },
  {
   "cell_type": "markdown",
   "metadata": {},
   "source": [
    "## Analysis and Plotting\n",
    "\n",
    "First, we can do a preliminary exploration of the data we have to see if we can identify any clear trends or patterns."
   ]
  },
  {
   "cell_type": "code",
   "execution_count": 26,
   "metadata": {},
   "outputs": [
    {
     "data": {
      "text/plain": [
       "<seaborn.axisgrid.FacetGrid at 0x1dd9860cc10>"
      ]
     },
     "execution_count": 26,
     "metadata": {},
     "output_type": "execute_result"
    },
    {
     "data": {
      "image/png": "[encoded data removed]",
      "text/plain": [
       "<Figure size 360x360 with 1 Axes>"
      ]
     },
     "metadata": {
      "needs_background": "light"
     },
     "output_type": "display_data"
    }
   ],
   "source": [
    "# Distribution of seeds\n",
    "sns.catplot(x=\"SEED\", kind=\"count\", palette=\"ch:2.25\", data=master)"
   ]
  },
  {
   "cell_type": "code",
   "execution_count": 9,
   "metadata": {},
   "outputs": [
    {
     "data": {
      "text/plain": [
       "<seaborn.axisgrid.FacetGrid at 0x1dd96fc8a00>"
      ]
     },
     "execution_count": 9,
     "metadata": {},
     "output_type": "execute_result"
    },
    {
     "data": {
      "image/png": "[encoded data removed]",
      "text/plain": [
       "<Figure size 360x360 with 1 Axes>"
      ]
     },
     "metadata": {
      "needs_background": "light"
     },
     "output_type": "display_data"
    }
   ],
   "source": [
    "# Conferences of Final Four Teams\n",
    "ax = sns.catplot(x=\"Conference\", kind=\"count\", palette=\"ch:1\", data=master)\n",
    "ax.set_xticklabels(rotation=90)\n",
    "ax"
   ]
  },
  {
   "cell_type": "markdown",
   "metadata": {},
   "source": [
    "From the two visualizations above, we are initially exploring the distribution of seeds and conferences for final four teams in the past four years. We can see that the vast majority of teams that made it to the final four are 1, 2, and 3 seeds, which makes sense, but there are also four teams that were seeded 5, 7, 10, and 11 that made it to the final four in the past four years. One of them notably was Loyola Chicago, who made an insane tournament run in 2018, beating Kansas State 72-68 in the elite eight to become the fourth 11th seed in history to make it that far. \n",
    "\n",
    "Next, looking at the distribution of athletic conferences of the final four teams, we see that it is relatively even within the past four years, with most teams making it a part of the ACC or Big 12, which makes sense since those conferences are home to the basketball powerhouses of the country - Blue Bloods like Duke, UNC, or Kansas. The Big Ten, Big East, and SEC conferences have also had their fair share of final four teams in the past four years, which makes sense due to traditionally strong basketball schools like Michigan, Villanova, and Kentucky. "
   ]
  },
  {
   "cell_type": "markdown",
   "metadata": {},
   "source": [
    "Next, we chose to look a little closer at the 538rating score. "
   ]
  },
  {
   "cell_type": "code",
   "execution_count": 12,
   "metadata": {},
   "outputs": [
    {
     "data": {
      "text/plain": [
       "<seaborn.axisgrid.FacetGrid at 0x1dd97140820>"
      ]
     },
     "execution_count": 12,
     "metadata": {},
     "output_type": "execute_result"
    },
    {
     "data": {
      "image/png": "[encoded data removed]",
      "text/plain": [
       "<Figure size 360x360 with 1 Axes>"
      ]
     },
     "metadata": {
      "needs_background": "light"
     },
     "output_type": "display_data"
    }
   ],
   "source": [
    "sns.relplot(x = \"538rating\", y = \"ADJOE\", data = master)"
   ]
  },
  {
   "cell_type": "code",
   "execution_count": 13,
   "metadata": {},
   "outputs": [
    {
     "data": {
      "text/plain": [
       "<seaborn.axisgrid.FacetGrid at 0x1dd971ac9d0>"
      ]
     },
     "execution_count": 13,
     "metadata": {},
     "output_type": "execute_result"
    },
    {
     "data": {
      "image/png": "[encoded data removed]",
      "text/plain": [
       "<Figure size 360x360 with 1 Axes>"
      ]
     },
     "metadata": {
      "needs_background": "light"
     },
     "output_type": "display_data"
    }
   ],
   "source": [
    "sns.relplot(x = \"538rating\", y = \"ADJDE\", data = master)"
   ]
  },
  {
   "cell_type": "code",
   "execution_count": 28,
   "metadata": {},
   "outputs": [
    {
     "data": {
      "text/plain": [
       "<seaborn.axisgrid.FacetGrid at 0x1dd986d18b0>"
      ]
     },
     "execution_count": 28,
     "metadata": {},
     "output_type": "execute_result"
    },
    {
     "data": {
      "image/png": "[encoded data removed]",
      "text/plain": [
       "<Figure size 360x360 with 1 Axes>"
      ]
     },
     "metadata": {
      "needs_background": "light"
     },
     "output_type": "display_data"
    }
   ],
   "source": [
    "sns.catplot(x = \"SEED\", y = \"538rating\", kind = \"bar\", data = master, palette = \"ch: 4.15\")"
   ]
  },
  {
   "cell_type": "code",
   "execution_count": 23,
   "metadata": {},
   "outputs": [
    {
     "data": {
      "text/plain": [
       "<seaborn.axisgrid.FacetGrid at 0x1dd98590460>"
      ]
     },
     "execution_count": 23,
     "metadata": {},
     "output_type": "execute_result"
    },
    {
     "data": {
      "image/png": "[encoded data removed]",
      "text/plain": [
       "<Figure size 360x360 with 1 Axes>"
      ]
     },
     "metadata": {
      "needs_background": "light"
     },
     "output_type": "display_data"
    }
   ],
   "source": [
    "sns.catplot(x = \"Place\", y = \"538rating\", kind = \"bar\", data = master, palette = \"ch: 1.95\")"
   ]
  },
  {
   "cell_type": "markdown",
   "metadata": {},
   "source": [
    "From the scatterplots above, we see the correlation between the calculated 538 rating score as well as Adjusted Offensive Efficiency and Adjusted Defensive Efficiency for the 16 Final Four teams from 2016-2019. It is important to note that there is a clear positive association between 538 rating and ADJOE, but almost no association to a slightly negative association between 538 rating and ADJDE, meaning that offensive efficiency is likely weighted much higher and taken into much more consideration when calculating the 538 rating for a particular team. According to the metadata, the ADJOE is calculated by an estimate of the offensive efficiency (points scored per 100 possessions) a team would have against the average Division I defense, and likewise the ADJDE is calculated the same way (but for points allowed). \n",
    "\n",
    "From the bar graphs above, it appears that 538 rating is positively associated with both seeding and placement, which does intuitively make sense. The 1 and 2 seeds have the highest average of 538 ratings out of all the other teams, and the teams that finished 1st in the entire tournament also have the highest average 538 rating. Thus, there appears to be at least some predictive power behind this score. \n"
   ]
  },
  {
   "cell_type": "markdown",
   "metadata": {},
   "source": [
    "## Regression Analysis"
   ]
  },
  {
   "cell_type": "markdown",
   "metadata": {},
   "source": [
    "Now, we can fit our logistic regression model using the response variable `final_four`, which is equal to 1 if a particular team has been to the final four in the years 2016-2019. For this portion, we chose to filter the collegebasketball dataset to include only teams that were qualified to play in the March Madness tournament in the years 2016-2019. The reason why we only wanted to focus on tournament teams and not all D1 teams in general is because our research question is primarily focused on predicting which teams will make it to the Final Four stage within the tournament. We will fit two logistic regression models to analyze all the factors at play. The first logistic regression model will have statistics and metrics initially found in the collegebasketball dataset, including Adjusted Offensive Efficiency, Adjusted Defensive Efficiency, Seed, Win Percentage, Power Rating, Offensive Rebound Rate, Free Throw Rate, Two Point Shooting Percentage, Two Point Shooting Percentage Allowed, Three Point Shooting Percentage, Three Point Shooting Percentage Allowed, etc. The second logistic regression model will include the scores of each team from the 538rating dataset. Part of the reason for the separation was because we wanted to isolate the calculation of the predictive power of the 538 ratings, since they seem to be made independently by the 538 organization, and not an actual statistic that is tracked by the NCAA. Another main reason for the separation was to avoid issues with multicollinearity, as the calculation of 538 rating may be inherently correlated with many of the statistics in the collegebasketball dataset, as seen through some of the scatterplots in our exploratory data analysis. "
   ]
  },
  {
   "cell_type": "code",
   "execution_count": 34,
   "metadata": {},
   "outputs": [],
   "source": [
    "from scipy.stats import norm\n",
    "def pvalue(model, x):\n",
    "    p = model.predict_proba(x)\n",
    "    n = len(p)\n",
    "    m = len(model.coef_[0]) + 1\n",
    "    coefs = np.concatenate([model.intercept_, model.coef_[0]])\n",
    "    x_full = np.matrix(np.insert(np.array(x), 0, 1, axis = 1))\n",
    "    ans = np.zeros((m, m))\n",
    "    for i in range(n):\n",
    "        ans = ans + np.dot(np.transpose(x_full[i, :]), x_full[i, :]) * p[i,1] * p[i, 0]\n",
    "    vcov = np.linalg.inv(np.matrix(ans))\n",
    "    se = np.sqrt(np.diag(vcov))\n",
    "    t =  coefs/se  \n",
    "    p = (1 - norm.cdf(abs(t))) * 2\n",
    "    return p"
   ]
  },
  {
   "cell_type": "code",
   "execution_count": 123,
   "metadata": {},
   "outputs": [
    {
     "name": "stdout",
     "output_type": "stream",
     "text": [
      "[[ 0.59000395 -0.9093665   0.03721543 -0.20651056 -0.05432527 -0.29740464\n",
      "   0.34421533  1.19838185 -0.58359913 -0.35793687  0.72339836 -0.67948936\n",
      "   0.33428752 -0.08967962  0.31295969 -0.03134912  0.01268992 -1.06914646\n",
      "   1.60443611]]\n",
      "[5.68172935e-01 2.17696976e-01 1.21387471e-01 9.98933332e-01\n",
      " 2.68308466e-01 7.68301208e-01 9.34876121e-01 9.31002454e-01\n",
      " 7.76466958e-02 3.43606224e-01 1.77234666e-01 5.84052608e-02\n",
      " 7.54268878e-01 8.91650818e-01 9.62745071e-01 8.82876274e-01\n",
      " 9.50617516e-01 9.64113710e-01 5.09431053e-02 1.08714214e-04]\n"
     ]
    }
   ],
   "source": [
    "from sklearn.linear_model import LogisticRegression\n",
    "from sklearn.preprocessing import OneHotEncoder\n",
    "from sklearn.preprocessing import OrdinalEncoder\n",
    "from sklearn.metrics import accuracy_score\n",
    "from sklearn.metrics import plot_confusion_matrix\n",
    "import matplotlib.pyplot as plt \n",
    "\n",
    "\n",
    "cbb_data = basketballstats[[\"ADJOE\", \"ADJDE\", \"BARTHAG\", \"FTR\", \"FTRD\", \"EFG_O\", \"EFG_D\", \"TOR\", \"TORD\",\n",
    "                            \"ORB\", \"DRB\", \"2P_O\", \"2P_D\", \"3P_O\", \"3P_D\", \"SEED\", \"ADJ_T\", \"WAB\",\n",
    "                            \"W\"]].values\n",
    "\n",
    "cbb_target = OrdinalEncoder().fit_transform(basketballstats[[\"final_four\"]].values).ravel()\n",
    "\n",
    "\n",
    "cbb_model = LogisticRegression(max_iter = 1000)\n",
    "cbb_model.fit(X = cbb_data, y = cbb_target)\n",
    "\n",
    "print(cbb_model.coef_)\n",
    "print(pvalue(cbb_model, cbb_data))"
   ]
  },
  {
   "cell_type": "code",
   "execution_count": 124,
   "metadata": {},
   "outputs": [
    {
     "name": "stderr",
     "output_type": "stream",
     "text": [
      "<ipython-input-124-08ad851ecf02>:1: SettingWithCopyWarning: \n",
      "A value is trying to be set on a copy of a slice from a DataFrame.\n",
      "Try using .loc[row_indexer,col_indexer] = value instead\n",
      "\n",
      "See the caveats in the documentation: https://pandas.pydata.org/pandas-docs/stable/user_guide/indexing.html#returning-a-view-versus-a-copy\n",
      "  basketballstats[\"predicted_ff\"] = cbb_model.predict(cbb_data)\n"
     ]
    },
    {
     "data": {
      "text/html": [
       "<div>\n",
       "<style scoped>\n",
       "    .dataframe tbody tr th:only-of-type {\n",
       "        vertical-align: middle;\n",
       "    }\n",
       "\n",
       "    .dataframe tbody tr th {\n",
       "        vertical-align: top;\n",
       "    }\n",
       "\n",
       "    .dataframe thead th {\n",
       "        text-align: right;\n",
       "    }\n",
       "</style>\n",
       "<table border=\"1\" class=\"dataframe\">\n",
       "  <thead>\n",
       "    <tr style=\"text-align: right;\">\n",
       "      <th></th>\n",
       "      <th>School</th>\n",
       "      <th>CONF</th>\n",
       "      <th>G</th>\n",
       "      <th>W</th>\n",
       "      <th>ADJOE</th>\n",
       "      <th>ADJDE</th>\n",
       "      <th>BARTHAG</th>\n",
       "      <th>EFG_O</th>\n",
       "      <th>EFG_D</th>\n",
       "      <th>TOR</th>\n",
       "      <th>...</th>\n",
       "      <th>3P_O</th>\n",
       "      <th>3P_D</th>\n",
       "      <th>ADJ_T</th>\n",
       "      <th>WAB</th>\n",
       "      <th>POSTSEASON</th>\n",
       "      <th>SEED</th>\n",
       "      <th>Year</th>\n",
       "      <th>final_four</th>\n",
       "      <th>win_percentage</th>\n",
       "      <th>predicted_ff</th>\n",
       "    </tr>\n",
       "  </thead>\n",
       "  <tbody>\n",
       "    <tr>\n",
       "      <th>0</th>\n",
       "      <td>North Carolina</td>\n",
       "      <td>ACC</td>\n",
       "      <td>40</td>\n",
       "      <td>33</td>\n",
       "      <td>123.3</td>\n",
       "      <td>94.9</td>\n",
       "      <td>0.9531</td>\n",
       "      <td>52.6</td>\n",
       "      <td>48.1</td>\n",
       "      <td>15.4</td>\n",
       "      <td>...</td>\n",
       "      <td>32.7</td>\n",
       "      <td>36.2</td>\n",
       "      <td>71.7</td>\n",
       "      <td>8.6</td>\n",
       "      <td>2ND</td>\n",
       "      <td>1.0</td>\n",
       "      <td>2016</td>\n",
       "      <td>1</td>\n",
       "      <td>0.825000</td>\n",
       "      <td>1.0</td>\n",
       "    </tr>\n",
       "    <tr>\n",
       "      <th>2</th>\n",
       "      <td>Michigan</td>\n",
       "      <td>B10</td>\n",
       "      <td>40</td>\n",
       "      <td>33</td>\n",
       "      <td>114.4</td>\n",
       "      <td>90.4</td>\n",
       "      <td>0.9375</td>\n",
       "      <td>53.9</td>\n",
       "      <td>47.7</td>\n",
       "      <td>14.0</td>\n",
       "      <td>...</td>\n",
       "      <td>35.2</td>\n",
       "      <td>33.2</td>\n",
       "      <td>65.9</td>\n",
       "      <td>6.9</td>\n",
       "      <td>2ND</td>\n",
       "      <td>3.0</td>\n",
       "      <td>2018</td>\n",
       "      <td>1</td>\n",
       "      <td>0.825000</td>\n",
       "      <td>1.0</td>\n",
       "    </tr>\n",
       "    <tr>\n",
       "      <th>3</th>\n",
       "      <td>Texas Tech</td>\n",
       "      <td>B12</td>\n",
       "      <td>38</td>\n",
       "      <td>31</td>\n",
       "      <td>115.2</td>\n",
       "      <td>85.2</td>\n",
       "      <td>0.9696</td>\n",
       "      <td>53.5</td>\n",
       "      <td>43.0</td>\n",
       "      <td>17.7</td>\n",
       "      <td>...</td>\n",
       "      <td>36.5</td>\n",
       "      <td>29.7</td>\n",
       "      <td>67.5</td>\n",
       "      <td>7.0</td>\n",
       "      <td>2ND</td>\n",
       "      <td>3.0</td>\n",
       "      <td>2019</td>\n",
       "      <td>1</td>\n",
       "      <td>0.815789</td>\n",
       "      <td>1.0</td>\n",
       "    </tr>\n",
       "    <tr>\n",
       "      <th>4</th>\n",
       "      <td>Gonzaga</td>\n",
       "      <td>WCC</td>\n",
       "      <td>39</td>\n",
       "      <td>37</td>\n",
       "      <td>117.8</td>\n",
       "      <td>86.3</td>\n",
       "      <td>0.9728</td>\n",
       "      <td>56.6</td>\n",
       "      <td>41.1</td>\n",
       "      <td>16.2</td>\n",
       "      <td>...</td>\n",
       "      <td>38.2</td>\n",
       "      <td>29.0</td>\n",
       "      <td>71.5</td>\n",
       "      <td>7.7</td>\n",
       "      <td>2ND</td>\n",
       "      <td>1.0</td>\n",
       "      <td>2017</td>\n",
       "      <td>1</td>\n",
       "      <td>0.948718</td>\n",
       "      <td>1.0</td>\n",
       "    </tr>\n",
       "    <tr>\n",
       "      <th>8</th>\n",
       "      <td>Virginia</td>\n",
       "      <td>ACC</td>\n",
       "      <td>38</td>\n",
       "      <td>35</td>\n",
       "      <td>123.0</td>\n",
       "      <td>89.9</td>\n",
       "      <td>0.9736</td>\n",
       "      <td>55.2</td>\n",
       "      <td>44.7</td>\n",
       "      <td>14.7</td>\n",
       "      <td>...</td>\n",
       "      <td>39.5</td>\n",
       "      <td>28.9</td>\n",
       "      <td>60.7</td>\n",
       "      <td>11.1</td>\n",
       "      <td>Champions</td>\n",
       "      <td>1.0</td>\n",
       "      <td>2019</td>\n",
       "      <td>1</td>\n",
       "      <td>0.921053</td>\n",
       "      <td>1.0</td>\n",
       "    </tr>\n",
       "    <tr>\n",
       "      <th>9</th>\n",
       "      <td>North Carolina</td>\n",
       "      <td>ACC</td>\n",
       "      <td>39</td>\n",
       "      <td>33</td>\n",
       "      <td>121.0</td>\n",
       "      <td>91.5</td>\n",
       "      <td>0.9615</td>\n",
       "      <td>51.7</td>\n",
       "      <td>48.1</td>\n",
       "      <td>16.2</td>\n",
       "      <td>...</td>\n",
       "      <td>35.5</td>\n",
       "      <td>33.9</td>\n",
       "      <td>72.8</td>\n",
       "      <td>8.4</td>\n",
       "      <td>Champions</td>\n",
       "      <td>1.0</td>\n",
       "      <td>2017</td>\n",
       "      <td>1</td>\n",
       "      <td>0.846154</td>\n",
       "      <td>1.0</td>\n",
       "    </tr>\n",
       "    <tr>\n",
       "      <th>10</th>\n",
       "      <td>Villanova</td>\n",
       "      <td>BE</td>\n",
       "      <td>40</td>\n",
       "      <td>35</td>\n",
       "      <td>123.1</td>\n",
       "      <td>90.9</td>\n",
       "      <td>0.9703</td>\n",
       "      <td>56.1</td>\n",
       "      <td>46.7</td>\n",
       "      <td>16.3</td>\n",
       "      <td>...</td>\n",
       "      <td>36.2</td>\n",
       "      <td>33.9</td>\n",
       "      <td>66.7</td>\n",
       "      <td>8.9</td>\n",
       "      <td>Champions</td>\n",
       "      <td>2.0</td>\n",
       "      <td>2016</td>\n",
       "      <td>1</td>\n",
       "      <td>0.875000</td>\n",
       "      <td>1.0</td>\n",
       "    </tr>\n",
       "    <tr>\n",
       "      <th>11</th>\n",
       "      <td>Villanova</td>\n",
       "      <td>BE</td>\n",
       "      <td>40</td>\n",
       "      <td>36</td>\n",
       "      <td>128.4</td>\n",
       "      <td>94.1</td>\n",
       "      <td>0.9725</td>\n",
       "      <td>59.5</td>\n",
       "      <td>48.5</td>\n",
       "      <td>15.0</td>\n",
       "      <td>...</td>\n",
       "      <td>40.1</td>\n",
       "      <td>31.7</td>\n",
       "      <td>69.6</td>\n",
       "      <td>10.6</td>\n",
       "      <td>Champions</td>\n",
       "      <td>1.0</td>\n",
       "      <td>2018</td>\n",
       "      <td>1</td>\n",
       "      <td>0.900000</td>\n",
       "      <td>1.0</td>\n",
       "    </tr>\n",
       "    <tr>\n",
       "      <th>16</th>\n",
       "      <td>Notre Dame</td>\n",
       "      <td>ACC</td>\n",
       "      <td>36</td>\n",
       "      <td>24</td>\n",
       "      <td>118.3</td>\n",
       "      <td>103.3</td>\n",
       "      <td>0.8269</td>\n",
       "      <td>54.0</td>\n",
       "      <td>49.5</td>\n",
       "      <td>15.3</td>\n",
       "      <td>...</td>\n",
       "      <td>37.4</td>\n",
       "      <td>36.9</td>\n",
       "      <td>65.5</td>\n",
       "      <td>2.3</td>\n",
       "      <td>E8</td>\n",
       "      <td>6.0</td>\n",
       "      <td>2016</td>\n",
       "      <td>0</td>\n",
       "      <td>0.666667</td>\n",
       "      <td>0.0</td>\n",
       "    </tr>\n",
       "    <tr>\n",
       "      <th>17</th>\n",
       "      <td>Virginia</td>\n",
       "      <td>ACC</td>\n",
       "      <td>37</td>\n",
       "      <td>29</td>\n",
       "      <td>119.9</td>\n",
       "      <td>91.0</td>\n",
       "      <td>0.9600</td>\n",
       "      <td>54.8</td>\n",
       "      <td>48.4</td>\n",
       "      <td>15.1</td>\n",
       "      <td>...</td>\n",
       "      <td>40.3</td>\n",
       "      <td>34.7</td>\n",
       "      <td>61.9</td>\n",
       "      <td>8.6</td>\n",
       "      <td>E8</td>\n",
       "      <td>1.0</td>\n",
       "      <td>2016</td>\n",
       "      <td>0</td>\n",
       "      <td>0.783784</td>\n",
       "      <td>0.0</td>\n",
       "    </tr>\n",
       "  </tbody>\n",
       "</table>\n",
       "<p>10 rows × 27 columns</p>\n",
       "</div>"
      ],
      "text/plain": [
       "            School CONF   G   W  ADJOE  ADJDE  BARTHAG  EFG_O  EFG_D   TOR  \\\n",
       "0   North Carolina  ACC  40  33  123.3   94.9   0.9531   52.6   48.1  15.4   \n",
       "2         Michigan  B10  40  33  114.4   90.4   0.9375   53.9   47.7  14.0   \n",
       "3       Texas Tech  B12  38  31  115.2   85.2   0.9696   53.5   43.0  17.7   \n",
       "4          Gonzaga  WCC  39  37  117.8   86.3   0.9728   56.6   41.1  16.2   \n",
       "8         Virginia  ACC  38  35  123.0   89.9   0.9736   55.2   44.7  14.7   \n",
       "9   North Carolina  ACC  39  33  121.0   91.5   0.9615   51.7   48.1  16.2   \n",
       "10       Villanova   BE  40  35  123.1   90.9   0.9703   56.1   46.7  16.3   \n",
       "11       Villanova   BE  40  36  128.4   94.1   0.9725   59.5   48.5  15.0   \n",
       "16      Notre Dame  ACC  36  24  118.3  103.3   0.8269   54.0   49.5  15.3   \n",
       "17        Virginia  ACC  37  29  119.9   91.0   0.9600   54.8   48.4  15.1   \n",
       "\n",
       "    ...  3P_O  3P_D  ADJ_T   WAB  POSTSEASON  SEED  Year  final_four  \\\n",
       "0   ...  32.7  36.2   71.7   8.6         2ND   1.0  2016           1   \n",
       "2   ...  35.2  33.2   65.9   6.9         2ND   3.0  2018           1   \n",
       "3   ...  36.5  29.7   67.5   7.0         2ND   3.0  2019           1   \n",
       "4   ...  38.2  29.0   71.5   7.7         2ND   1.0  2017           1   \n",
       "8   ...  39.5  28.9   60.7  11.1   Champions   1.0  2019           1   \n",
       "9   ...  35.5  33.9   72.8   8.4   Champions   1.0  2017           1   \n",
       "10  ...  36.2  33.9   66.7   8.9   Champions   2.0  2016           1   \n",
       "11  ...  40.1  31.7   69.6  10.6   Champions   1.0  2018           1   \n",
       "16  ...  37.4  36.9   65.5   2.3          E8   6.0  2016           0   \n",
       "17  ...  40.3  34.7   61.9   8.6          E8   1.0  2016           0   \n",
       "\n",
       "    win_percentage  predicted_ff  \n",
       "0         0.825000           1.0  \n",
       "2         0.825000           1.0  \n",
       "3         0.815789           1.0  \n",
       "4         0.948718           1.0  \n",
       "8         0.921053           1.0  \n",
       "9         0.846154           1.0  \n",
       "10        0.875000           1.0  \n",
       "11        0.900000           1.0  \n",
       "16        0.666667           0.0  \n",
       "17        0.783784           0.0  \n",
       "\n",
       "[10 rows x 27 columns]"
      ]
     },
     "execution_count": 124,
     "metadata": {},
     "output_type": "execute_result"
    }
   ],
   "source": [
    "basketballstats[\"predicted_ff\"] = cbb_model.predict(cbb_data)\n",
    "basketballstats.head(10)"
   ]
  },
  {
   "cell_type": "code",
   "execution_count": 125,
   "metadata": {},
   "outputs": [
    {
     "name": "stdout",
     "output_type": "stream",
     "text": [
      "Classification accuracy: 0.9963235294117647\n"
     ]
    },
    {
     "data": {
      "text/plain": [
       "<sklearn.metrics._plot.confusion_matrix.ConfusionMatrixDisplay at 0x24033134be0>"
      ]
     },
     "execution_count": 125,
     "metadata": {},
     "output_type": "execute_result"
    },
    {
     "data": {
      "image/png": "[encoded data removed]",
      "text/plain": [
       "<Figure size 432x288 with 2 Axes>"
      ]
     },
     "metadata": {
      "needs_background": "light"
     },
     "output_type": "display_data"
    }
   ],
   "source": [
    "print(\"Classification accuracy:\", cbb_model.score(cbb_data, cbb_target))\n",
    "\n",
    "plot_confusion_matrix(cbb_model, cbb_data, cbb_target)"
   ]
  },
  {
   "cell_type": "code",
   "execution_count": 273,
   "metadata": {},
   "outputs": [
    {
     "name": "stdout",
     "output_type": "stream",
     "text": [
      "[[0.28286251]]\n",
      "[3.61460278e-06 1.74030972e-05]\n"
     ]
    }
   ],
   "source": [
    "cbb_data1 = basketballstats1[[\"538rating\"]].values\n",
    "\n",
    "cbb_target1 = OrdinalEncoder().fit_transform(basketballstats1[[\"final_four\"]].values).ravel()\n",
    "\n",
    "\n",
    "cbb_model1 = LogisticRegression(max_iter = 1000)\n",
    "cbb_model1.fit(X = cbb_data1, y = cbb_target1)\n",
    "\n",
    "print(cbb_model1.coef_)\n",
    "print(pvalue(cbb_model1, cbb_data1))"
   ]
  },
  {
   "cell_type": "code",
   "execution_count": 274,
   "metadata": {},
   "outputs": [
    {
     "name": "stdout",
     "output_type": "stream",
     "text": [
      "Classification accuracy: 0.9372693726937269\n"
     ]
    },
    {
     "data": {
      "text/plain": [
       "<sklearn.metrics._plot.confusion_matrix.ConfusionMatrixDisplay at 0x240345496a0>"
      ]
     },
     "execution_count": 274,
     "metadata": {},
     "output_type": "execute_result"
    },
    {
     "data": {
      "image/png": "[encoded data removed]",
      "text/plain": [
       "<Figure size 432x288 with 2 Axes>"
      ]
     },
     "metadata": {
      "needs_background": "light"
     },
     "output_type": "display_data"
    }
   ],
   "source": [
    "print(\"Classification accuracy:\", cbb_model1.score(cbb_data1, cbb_target1))\n",
    "\n",
    "plot_confusion_matrix(cbb_model1, cbb_data1, cbb_target1)"
   ]
  },
  {
   "cell_type": "code",
   "execution_count": 275,
   "metadata": {},
   "outputs": [
    {
     "name": "stdout",
     "output_type": "stream",
     "text": [
      "[[0.32651806]]\n",
      "[1.05921871e-09 5.13620102e-09]\n"
     ]
    }
   ],
   "source": [
    "cbb_data2 = basketballstats1[[\"538rating\"]].values\n",
    "\n",
    "cbb_target2 = OrdinalEncoder().fit_transform(basketballstats1[[\"elite_eight\"]].values).ravel()\n",
    "\n",
    "\n",
    "cbb_model2 = LogisticRegression(max_iter = 1000)\n",
    "cbb_model2.fit(X = cbb_data2, y = cbb_target2)\n",
    "\n",
    "print(cbb_model2.coef_)\n",
    "print(pvalue(cbb_model2, cbb_data2))"
   ]
  },
  {
   "cell_type": "code",
   "execution_count": 276,
   "metadata": {},
   "outputs": [
    {
     "name": "stdout",
     "output_type": "stream",
     "text": [
      "Classification accuracy: 0.9077490774907749\n"
     ]
    },
    {
     "data": {
      "text/plain": [
       "<sklearn.metrics._plot.confusion_matrix.ConfusionMatrixDisplay at 0x24034679970>"
      ]
     },
     "execution_count": 276,
     "metadata": {},
     "output_type": "execute_result"
    },
    {
     "data": {
      "image/png": "[encoded data removed]",
      "text/plain": [
       "<Figure size 432x288 with 2 Axes>"
      ]
     },
     "metadata": {
      "needs_background": "light"
     },
     "output_type": "display_data"
    }
   ],
   "source": [
    "print(\"Classification accuracy:\", cbb_model2.score(cbb_data2, cbb_target2))\n",
    "\n",
    "plot_confusion_matrix(cbb_model2, cbb_data2, cbb_target2)"
   ]
  },
  {
   "cell_type": "code",
   "execution_count": 278,
   "metadata": {},
   "outputs": [
    {
     "name": "stdout",
     "output_type": "stream",
     "text": [
      "[[0.34101317]]\n",
      "[2.33590924e-13 8.04689648e-13]\n"
     ]
    }
   ],
   "source": [
    "cbb_data3 = basketballstats1[[\"538rating\"]].values\n",
    "\n",
    "cbb_target3 = OrdinalEncoder().fit_transform(basketballstats1[[\"sweet_sixteen\"]].values).ravel()\n",
    "\n",
    "\n",
    "cbb_model3 = LogisticRegression(max_iter = 1000)\n",
    "cbb_model3.fit(X = cbb_data3, y = cbb_target3)\n",
    "\n",
    "print(cbb_model3.coef_)\n",
    "print(pvalue(cbb_model3, cbb_data3))"
   ]
  },
  {
   "cell_type": "code",
   "execution_count": 279,
   "metadata": {},
   "outputs": [
    {
     "name": "stdout",
     "output_type": "stream",
     "text": [
      "Classification accuracy: 0.8265682656826568\n"
     ]
    },
    {
     "data": {
      "text/plain": [
       "<sklearn.metrics._plot.confusion_matrix.ConfusionMatrixDisplay at 0x240346bcee0>"
      ]
     },
     "execution_count": 279,
     "metadata": {},
     "output_type": "execute_result"
    },
    {
     "data": {
      "image/png": "[encoded data removed]",
      "text/plain": [
       "<Figure size 432x288 with 2 Axes>"
      ]
     },
     "metadata": {
      "needs_background": "light"
     },
     "output_type": "display_data"
    }
   ],
   "source": [
    "print(\"Classification accuracy:\", cbb_model3.score(cbb_data3, cbb_target3))\n",
    "\n",
    "plot_confusion_matrix(cbb_model3, cbb_data3, cbb_target3)"
   ]
  },
  {
   "cell_type": "code",
   "execution_count": 283,
   "metadata": {},
   "outputs": [
    {
     "name": "stdout",
     "output_type": "stream",
     "text": [
      "[[0.28526774]]\n",
      "[5.10702591e-15 4.88498131e-15]\n"
     ]
    }
   ],
   "source": [
    "cbb_data4 = basketballstats1[[\"538rating\"]].values\n",
    "\n",
    "cbb_target4 = OrdinalEncoder().fit_transform(basketballstats1[[\"r32\"]].values).ravel()\n",
    "\n",
    "\n",
    "cbb_model4 = LogisticRegression(max_iter = 1000)\n",
    "cbb_model4.fit(X = cbb_data4, y = cbb_target4)\n",
    "\n",
    "print(cbb_model4.coef_)\n",
    "print(pvalue(cbb_model4, cbb_data4))"
   ]
  },
  {
   "cell_type": "code",
   "execution_count": 284,
   "metadata": {},
   "outputs": [
    {
     "name": "stdout",
     "output_type": "stream",
     "text": [
      "Classification accuracy: 0.7453874538745388\n"
     ]
    },
    {
     "data": {
      "text/plain": [
       "<sklearn.metrics._plot.confusion_matrix.ConfusionMatrixDisplay at 0x24032d29640>"
      ]
     },
     "execution_count": 284,
     "metadata": {},
     "output_type": "execute_result"
    },
    {
     "data": {
      "image/png": "[encoded data removed]",
      "text/plain": [
       "<Figure size 432x288 with 2 Axes>"
      ]
     },
     "metadata": {
      "needs_background": "light"
     },
     "output_type": "display_data"
    }
   ],
   "source": [
    "print(\"Classification accuracy:\", cbb_model4.score(cbb_data4, cbb_target4))\n",
    "\n",
    "plot_confusion_matrix(cbb_model4, cbb_data4, cbb_target4)"
   ]
  }
 ],
 "metadata": {
  "kernelspec": {
   "display_name": "Python 3",
   "language": "python",
   "name": "python3"
  },
  "language_info": {
   "codemirror_mode": {
    "name": "ipython",
    "version": 3
   },
   "file_extension": ".py",
   "mimetype": "text/x-python",
   "name": "python",
   "nbconvert_exporter": "python",
   "pygments_lexer": "ipython3",
   "version": "3.8.3"
  }
 },
 "nbformat": 4,
 "nbformat_minor": 2
}
